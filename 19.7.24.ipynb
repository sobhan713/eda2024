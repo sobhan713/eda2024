{
 "cells": [
  {
   "cell_type": "markdown",
   "id": "0a10e79f-3e05-481b-9e79-c739d9404633",
   "metadata": {},
   "source": [
    "**step-5**\n",
    "\n",
    "**add a new column on exhisting dataframe**"
   ]
  },
  {
   "cell_type": "code",
   "execution_count": 3,
   "id": "74bb525b-30cc-4be4-a5aa-4bc407281785",
   "metadata": {},
   "outputs": [],
   "source": [
    "#create a data frame with name age and city\n",
    "import pandas as pd"
   ]
  },
  {
   "cell_type": "code",
   "execution_count": 4,
   "id": "f1f65682-87db-4b79-90de-207a731eec94",
   "metadata": {},
   "outputs": [
    {
     "data": {
      "text/html": [
       "<div>\n",
       "<style scoped>\n",
       "    .dataframe tbody tr th:only-of-type {\n",
       "        vertical-align: middle;\n",
       "    }\n",
       "\n",
       "    .dataframe tbody tr th {\n",
       "        vertical-align: top;\n",
       "    }\n",
       "\n",
       "    .dataframe thead th {\n",
       "        text-align: right;\n",
       "    }\n",
       "</style>\n",
       "<table border=\"1\" class=\"dataframe\">\n",
       "  <thead>\n",
       "    <tr style=\"text-align: right;\">\n",
       "      <th></th>\n",
       "      <th>0</th>\n",
       "      <th>1</th>\n",
       "      <th>2</th>\n",
       "    </tr>\n",
       "  </thead>\n",
       "  <tbody>\n",
       "    <tr>\n",
       "      <th>0</th>\n",
       "      <td>ak</td>\n",
       "      <td>20</td>\n",
       "      <td>bam</td>\n",
       "    </tr>\n",
       "    <tr>\n",
       "      <th>1</th>\n",
       "      <td>sobhan</td>\n",
       "      <td>30</td>\n",
       "      <td>bbsr</td>\n",
       "    </tr>\n",
       "    <tr>\n",
       "      <th>2</th>\n",
       "      <td>aryan</td>\n",
       "      <td>40</td>\n",
       "      <td>ctc</td>\n",
       "    </tr>\n",
       "  </tbody>\n",
       "</table>\n",
       "</div>"
      ],
      "text/plain": [
       "        0   1     2\n",
       "0      ak  20   bam\n",
       "1  sobhan  30  bbsr\n",
       "2   aryan  40   ctc"
      ]
     },
     "execution_count": 4,
     "metadata": {},
     "output_type": "execute_result"
    }
   ],
   "source": [
    "name=['ak','sobhan','aryan']\n",
    "age=[20,30,40]\n",
    "city=['bam','bbsr','ctc']\n",
    "pd.DataFrame(zip(name,age,city))"
   ]
  },
  {
   "cell_type": "markdown",
   "id": "fbdb1370-ff61-4bb7-aa96-4132818dc885",
   "metadata": {},
   "source": [
    "- if u want to add new column\n",
    "\n",
    "- 1st check how many rows are there\n",
    "\n",
    "- for ex in above dataframe we have 3 rows\n",
    "\n",
    "- ur new column also have 3 rows\n",
    "\n",
    "- suppose i want to create a new column: **education**\n",
    "\n",
    "- make a lsit with 3 values\n",
    "\n",
    "- ed=['btech','bca','mca']\n",
    "\n",
    "**syntax** : dataframe[column]=list of values"
   ]
  },
  {
   "cell_type": "code",
   "execution_count": 5,
   "id": "46d59408-6d48-463d-9998-04efa69e22cc",
   "metadata": {},
   "outputs": [
    {
     "data": {
      "text/html": [
       "<div>\n",
       "<style scoped>\n",
       "    .dataframe tbody tr th:only-of-type {\n",
       "        vertical-align: middle;\n",
       "    }\n",
       "\n",
       "    .dataframe tbody tr th {\n",
       "        vertical-align: top;\n",
       "    }\n",
       "\n",
       "    .dataframe thead th {\n",
       "        text-align: right;\n",
       "    }\n",
       "</style>\n",
       "<table border=\"1\" class=\"dataframe\">\n",
       "  <thead>\n",
       "    <tr style=\"text-align: right;\">\n",
       "      <th></th>\n",
       "      <th>0</th>\n",
       "      <th>1</th>\n",
       "      <th>2</th>\n",
       "    </tr>\n",
       "  </thead>\n",
       "  <tbody>\n",
       "    <tr>\n",
       "      <th>0</th>\n",
       "      <td>ak</td>\n",
       "      <td>20</td>\n",
       "      <td>bam</td>\n",
       "    </tr>\n",
       "    <tr>\n",
       "      <th>1</th>\n",
       "      <td>sobhan</td>\n",
       "      <td>30</td>\n",
       "      <td>bbsr</td>\n",
       "    </tr>\n",
       "    <tr>\n",
       "      <th>2</th>\n",
       "      <td>aryan</td>\n",
       "      <td>40</td>\n",
       "      <td>ctc</td>\n",
       "    </tr>\n",
       "  </tbody>\n",
       "</table>\n",
       "</div>"
      ],
      "text/plain": [
       "        0   1     2\n",
       "0      ak  20   bam\n",
       "1  sobhan  30  bbsr\n",
       "2   aryan  40   ctc"
      ]
     },
     "execution_count": 5,
     "metadata": {},
     "output_type": "execute_result"
    }
   ],
   "source": [
    "name=['ak','sobhan','aryan']\n",
    "age=[20,30,40]\n",
    "city=['bam','bbsr','ctc']\n",
    "pd.DataFrame(zip(name,age,city))"
   ]
  },
  {
   "cell_type": "code",
   "execution_count": 6,
   "id": "7c3c0161-74e7-4180-92d0-578b780fc17d",
   "metadata": {},
   "outputs": [
    {
     "name": "stdout",
     "output_type": "stream",
     "text": [
      "        0   1     2 education    s\n",
      "0      ak  20   bam     btech  100\n",
      "1  sobhan  30  bbsr       bca  200\n",
      "2   aryan  40   ctc       mca  300\n"
     ]
    }
   ],
   "source": [
    "name=['ak','sobhan','aryan']\n",
    "age=[20,30,40]\n",
    "city=['bam','bbsr','ctc']\n",
    "ed=['btech','bca','mca']\n",
    "salary=[100,200,300]\n",
    "df=pd.DataFrame(zip(name,age,city))\n",
    "df['education']=ed\n",
    "df['s']=salary\n",
    "print(df)"
   ]
  },
  {
   "cell_type": "markdown",
   "id": "334d479b-2fdc-4e81-a086-c4d5fd8f51a2",
   "metadata": {},
   "source": [
    "**use case-1**\n",
    "\n",
    "- create a empty dataframe\n",
    "\n",
    "- create 3 list using 3 list comprehension\n",
    "\n",
    "- list1 frm 1 to 10\n",
    "\n",
    "- list2 squ of list1\n",
    "\n",
    "- list3 cube of list1\n",
    "\n",
    "- finally make a data frame"
   ]
  },
  {
   "cell_type": "code",
   "execution_count": 12,
   "id": "b538fbe9-c9fb-4b53-ad4b-162fa35933d5",
   "metadata": {},
   "outputs": [
    {
     "data": {
      "text/html": [
       "<div>\n",
       "<style scoped>\n",
       "    .dataframe tbody tr th:only-of-type {\n",
       "        vertical-align: middle;\n",
       "    }\n",
       "\n",
       "    .dataframe tbody tr th {\n",
       "        vertical-align: top;\n",
       "    }\n",
       "\n",
       "    .dataframe thead th {\n",
       "        text-align: right;\n",
       "    }\n",
       "</style>\n",
       "<table border=\"1\" class=\"dataframe\">\n",
       "  <thead>\n",
       "    <tr style=\"text-align: right;\">\n",
       "      <th></th>\n",
       "      <th>num</th>\n",
       "      <th>sqr</th>\n",
       "      <th>cub</th>\n",
       "    </tr>\n",
       "  </thead>\n",
       "  <tbody>\n",
       "    <tr>\n",
       "      <th>0</th>\n",
       "      <td>1</td>\n",
       "      <td>1</td>\n",
       "      <td>1</td>\n",
       "    </tr>\n",
       "    <tr>\n",
       "      <th>1</th>\n",
       "      <td>2</td>\n",
       "      <td>4</td>\n",
       "      <td>8</td>\n",
       "    </tr>\n",
       "    <tr>\n",
       "      <th>2</th>\n",
       "      <td>3</td>\n",
       "      <td>9</td>\n",
       "      <td>27</td>\n",
       "    </tr>\n",
       "    <tr>\n",
       "      <th>3</th>\n",
       "      <td>4</td>\n",
       "      <td>16</td>\n",
       "      <td>64</td>\n",
       "    </tr>\n",
       "    <tr>\n",
       "      <th>4</th>\n",
       "      <td>5</td>\n",
       "      <td>25</td>\n",
       "      <td>125</td>\n",
       "    </tr>\n",
       "    <tr>\n",
       "      <th>5</th>\n",
       "      <td>6</td>\n",
       "      <td>36</td>\n",
       "      <td>216</td>\n",
       "    </tr>\n",
       "    <tr>\n",
       "      <th>6</th>\n",
       "      <td>7</td>\n",
       "      <td>49</td>\n",
       "      <td>343</td>\n",
       "    </tr>\n",
       "    <tr>\n",
       "      <th>7</th>\n",
       "      <td>8</td>\n",
       "      <td>64</td>\n",
       "      <td>512</td>\n",
       "    </tr>\n",
       "    <tr>\n",
       "      <th>8</th>\n",
       "      <td>9</td>\n",
       "      <td>81</td>\n",
       "      <td>729</td>\n",
       "    </tr>\n",
       "    <tr>\n",
       "      <th>9</th>\n",
       "      <td>10</td>\n",
       "      <td>100</td>\n",
       "      <td>1000</td>\n",
       "    </tr>\n",
       "  </tbody>\n",
       "</table>\n",
       "</div>"
      ],
      "text/plain": [
       "   num  sqr   cub\n",
       "0    1    1     1\n",
       "1    2    4     8\n",
       "2    3    9    27\n",
       "3    4   16    64\n",
       "4    5   25   125\n",
       "5    6   36   216\n",
       "6    7   49   343\n",
       "7    8   64   512\n",
       "8    9   81   729\n",
       "9   10  100  1000"
      ]
     },
     "execution_count": 12,
     "metadata": {},
     "output_type": "execute_result"
    }
   ],
   "source": [
    "#import pandas as p\n",
    "l1=[i for i in range (1,11)]\n",
    "l2=[i*i for i in l1]\n",
    "l3=[i**3 for i in l1]\n",
    "col=['num','sqr','cub']\n",
    "df1=pd.DataFrame(zip(l1,l2,l3),columns=col)\n",
    "df1\n"
   ]
  },
  {
   "cell_type": "code",
   "execution_count": 9,
   "id": "6d9b3ef2-6a12-4b46-b391-1232fad30633",
   "metadata": {},
   "outputs": [
    {
     "name": "stdout",
     "output_type": "stream",
     "text": [
      " num  sqr  cub\n",
      "  1    1     1\n",
      "  2    4     8\n",
      "  3    9    27\n",
      "  4   16    64\n",
      "  5   25   125\n",
      "  6   36   216\n",
      "  7   49   343\n",
      "  8   64   512\n",
      "  9   81   729\n",
      " 10  100  1000\n"
     ]
    }
   ],
   "source": [
    "print(df1.to_string(index=False,justify='center'))"
   ]
  },
  {
   "cell_type": "markdown",
   "id": "1efe5acb-68ea-48fb-b592-3be2f0b09819",
   "metadata": {},
   "source": [
    "**step-6**\n",
    "\n",
    "**update the already exhisted column**"
   ]
  },
  {
   "cell_type": "markdown",
   "id": "862e88f8-2306-4b05-806e-36c2b67891e8",
   "metadata": {},
   "source": [
    "- create a new column\n",
    "\n",
    "    - df['s']\n",
    "\n",
    "    - creating a new column the column name is our choice\n",
    "\n",
    "- update exhisting column area same way \n",
    "\n",
    "    - here also we need a make a list of values = nmber of rows\n",
    "\n",
    "    - while updating the exhisting column\n",
    "\n",
    "    - we need to provide already exhisted column name only\n",
    "\n",
    "    - df['s']=list of values"
   ]
  },
  {
   "cell_type": "code",
   "execution_count": 12,
   "id": "fdeff58a-0e70-4fa6-a7a5-0918f9df18d4",
   "metadata": {},
   "outputs": [
    {
     "name": "stdout",
     "output_type": "stream",
     "text": [
      "        0   1     2 education    s\n",
      "0      ak  20   bam     btech  100\n",
      "1  sobhan  30  bbsr       bca  200\n",
      "2   aryan  40   ctc       mca  300\n"
     ]
    }
   ],
   "source": [
    "name=['ak','sobhan','aryan']\n",
    "age=[20,30,40]\n",
    "city=['bam','bbsr','ctc']\n",
    "ed=['btech','bca','mca']\n",
    "salary=[100,200,300]\n",
    "df=pd.DataFrame(zip(name,age,city))\n",
    "df['education']=ed\n",
    "df['s']=salary\n",
    "print(df)"
   ]
  },
  {
   "cell_type": "code",
   "execution_count": 13,
   "id": "0d422430-179b-4320-a0c7-5643bc7b1ec4",
   "metadata": {},
   "outputs": [
    {
     "data": {
      "text/html": [
       "<div>\n",
       "<style scoped>\n",
       "    .dataframe tbody tr th:only-of-type {\n",
       "        vertical-align: middle;\n",
       "    }\n",
       "\n",
       "    .dataframe tbody tr th {\n",
       "        vertical-align: top;\n",
       "    }\n",
       "\n",
       "    .dataframe thead th {\n",
       "        text-align: right;\n",
       "    }\n",
       "</style>\n",
       "<table border=\"1\" class=\"dataframe\">\n",
       "  <thead>\n",
       "    <tr style=\"text-align: right;\">\n",
       "      <th></th>\n",
       "      <th>0</th>\n",
       "      <th>1</th>\n",
       "      <th>2</th>\n",
       "      <th>education</th>\n",
       "      <th>s</th>\n",
       "    </tr>\n",
       "  </thead>\n",
       "  <tbody>\n",
       "    <tr>\n",
       "      <th>0</th>\n",
       "      <td>ak</td>\n",
       "      <td>20</td>\n",
       "      <td>bam</td>\n",
       "      <td>btech</td>\n",
       "      <td>200</td>\n",
       "    </tr>\n",
       "    <tr>\n",
       "      <th>1</th>\n",
       "      <td>sobhan</td>\n",
       "      <td>30</td>\n",
       "      <td>bbsr</td>\n",
       "      <td>bca</td>\n",
       "      <td>400</td>\n",
       "    </tr>\n",
       "    <tr>\n",
       "      <th>2</th>\n",
       "      <td>aryan</td>\n",
       "      <td>40</td>\n",
       "      <td>ctc</td>\n",
       "      <td>mca</td>\n",
       "      <td>600</td>\n",
       "    </tr>\n",
       "  </tbody>\n",
       "</table>\n",
       "</div>"
      ],
      "text/plain": [
       "        0   1     2 education    s\n",
       "0      ak  20   bam     btech  200\n",
       "1  sobhan  30  bbsr       bca  400\n",
       "2   aryan  40   ctc       mca  600"
      ]
     },
     "execution_count": 13,
     "metadata": {},
     "output_type": "execute_result"
    }
   ],
   "source": [
    "z=[i*2 for i in salary]\n",
    "df['s']=z\n",
    "df"
   ]
  },
  {
   "cell_type": "markdown",
   "id": "06de7267-eff8-4abd-a06b-419ef124d8e8",
   "metadata": {},
   "source": [
    "**step-7**\n",
    "\n",
    "**drop the column**"
   ]
  },
  {
   "cell_type": "code",
   "execution_count": 11,
   "id": "ab07bd07-c980-4c50-9051-3807f026624a",
   "metadata": {},
   "outputs": [
    {
     "data": {
      "text/html": [
       "<div>\n",
       "<style scoped>\n",
       "    .dataframe tbody tr th:only-of-type {\n",
       "        vertical-align: middle;\n",
       "    }\n",
       "\n",
       "    .dataframe tbody tr th {\n",
       "        vertical-align: top;\n",
       "    }\n",
       "\n",
       "    .dataframe thead th {\n",
       "        text-align: right;\n",
       "    }\n",
       "</style>\n",
       "<table border=\"1\" class=\"dataframe\">\n",
       "  <thead>\n",
       "    <tr style=\"text-align: right;\">\n",
       "      <th></th>\n",
       "      <th>sqr</th>\n",
       "      <th>cub</th>\n",
       "    </tr>\n",
       "  </thead>\n",
       "  <tbody>\n",
       "    <tr>\n",
       "      <th>0</th>\n",
       "      <td>1</td>\n",
       "      <td>1</td>\n",
       "    </tr>\n",
       "    <tr>\n",
       "      <th>1</th>\n",
       "      <td>4</td>\n",
       "      <td>8</td>\n",
       "    </tr>\n",
       "    <tr>\n",
       "      <th>2</th>\n",
       "      <td>9</td>\n",
       "      <td>27</td>\n",
       "    </tr>\n",
       "    <tr>\n",
       "      <th>3</th>\n",
       "      <td>16</td>\n",
       "      <td>64</td>\n",
       "    </tr>\n",
       "    <tr>\n",
       "      <th>4</th>\n",
       "      <td>25</td>\n",
       "      <td>125</td>\n",
       "    </tr>\n",
       "    <tr>\n",
       "      <th>5</th>\n",
       "      <td>36</td>\n",
       "      <td>216</td>\n",
       "    </tr>\n",
       "    <tr>\n",
       "      <th>6</th>\n",
       "      <td>49</td>\n",
       "      <td>343</td>\n",
       "    </tr>\n",
       "    <tr>\n",
       "      <th>7</th>\n",
       "      <td>64</td>\n",
       "      <td>512</td>\n",
       "    </tr>\n",
       "    <tr>\n",
       "      <th>8</th>\n",
       "      <td>81</td>\n",
       "      <td>729</td>\n",
       "    </tr>\n",
       "    <tr>\n",
       "      <th>9</th>\n",
       "      <td>100</td>\n",
       "      <td>1000</td>\n",
       "    </tr>\n",
       "  </tbody>\n",
       "</table>\n",
       "</div>"
      ],
      "text/plain": [
       "   sqr   cub\n",
       "0    1     1\n",
       "1    4     8\n",
       "2    9    27\n",
       "3   16    64\n",
       "4   25   125\n",
       "5   36   216\n",
       "6   49   343\n",
       "7   64   512\n",
       "8   81   729\n",
       "9  100  1000"
      ]
     },
     "execution_count": 11,
     "metadata": {},
     "output_type": "execute_result"
    }
   ],
   "source": [
    "df1"
   ]
  },
  {
   "cell_type": "code",
   "execution_count": 16,
   "id": "ae297ff3-5222-4023-acaa-e890fd2419e8",
   "metadata": {},
   "outputs": [
    {
     "data": {
      "text/plain": [
       "Index(['num', 'sqr', 'cub'], dtype='object')"
      ]
     },
     "execution_count": 16,
     "metadata": {},
     "output_type": "execute_result"
    }
   ],
   "source": [
    "#how to check the  columns\n",
    "df1.columns"
   ]
  },
  {
   "cell_type": "markdown",
   "id": "b37d8b3a-9d57-4493-82c0-926cd4127ba6",
   "metadata": {},
   "source": [
    "if you want to drop a specific column\n",
    "- we will use drop method\n",
    "- we already know about differencede between keywords and methods\n",
    "- keywords will use directly\n",
    "- methods will use with corresponding dataframe\n",
    "- *method name is: drop*"
   ]
  },
  {
   "cell_type": "markdown",
   "id": "e7f647e1-d804-440f-a71c-e7614ae4e560",
   "metadata": {},
   "source": [
    "**df1.drop()**\n",
    "\n",
    "- column: which column you want to drop \n",
    "\n",
    "- axis : represents the specific value is a row or column\n",
    "\n",
    "    - axis=0 means row\n",
    "    - axis=1 means column\n",
    "    - by default axis=0\n",
    " \n",
    "- inplace:will provide overwrite the dataframe or not\n",
    "    - inplace =True ,this indicates overwrite the dataframe\n",
    "    - inplace =False ,this indicates the modified dataframe will be use when u provide new variable for the operation"
   ]
  },
  {
   "cell_type": "code",
   "execution_count": 14,
   "id": "f32c50d6-adbf-44a9-b635-23ce8df7c807",
   "metadata": {},
   "outputs": [],
   "source": [
    "df1.drop(columns='num',axis=1,inplace=True)"
   ]
  },
  {
   "cell_type": "code",
   "execution_count": 15,
   "id": "4ac90093-5586-4d82-803c-707240a3349e",
   "metadata": {},
   "outputs": [
    {
     "data": {
      "text/html": [
       "<div>\n",
       "<style scoped>\n",
       "    .dataframe tbody tr th:only-of-type {\n",
       "        vertical-align: middle;\n",
       "    }\n",
       "\n",
       "    .dataframe tbody tr th {\n",
       "        vertical-align: top;\n",
       "    }\n",
       "\n",
       "    .dataframe thead th {\n",
       "        text-align: right;\n",
       "    }\n",
       "</style>\n",
       "<table border=\"1\" class=\"dataframe\">\n",
       "  <thead>\n",
       "    <tr style=\"text-align: right;\">\n",
       "      <th></th>\n",
       "      <th>sqr</th>\n",
       "      <th>cub</th>\n",
       "    </tr>\n",
       "  </thead>\n",
       "  <tbody>\n",
       "    <tr>\n",
       "      <th>0</th>\n",
       "      <td>1</td>\n",
       "      <td>1</td>\n",
       "    </tr>\n",
       "    <tr>\n",
       "      <th>1</th>\n",
       "      <td>4</td>\n",
       "      <td>8</td>\n",
       "    </tr>\n",
       "    <tr>\n",
       "      <th>2</th>\n",
       "      <td>9</td>\n",
       "      <td>27</td>\n",
       "    </tr>\n",
       "    <tr>\n",
       "      <th>3</th>\n",
       "      <td>16</td>\n",
       "      <td>64</td>\n",
       "    </tr>\n",
       "    <tr>\n",
       "      <th>4</th>\n",
       "      <td>25</td>\n",
       "      <td>125</td>\n",
       "    </tr>\n",
       "    <tr>\n",
       "      <th>5</th>\n",
       "      <td>36</td>\n",
       "      <td>216</td>\n",
       "    </tr>\n",
       "    <tr>\n",
       "      <th>6</th>\n",
       "      <td>49</td>\n",
       "      <td>343</td>\n",
       "    </tr>\n",
       "    <tr>\n",
       "      <th>7</th>\n",
       "      <td>64</td>\n",
       "      <td>512</td>\n",
       "    </tr>\n",
       "    <tr>\n",
       "      <th>8</th>\n",
       "      <td>81</td>\n",
       "      <td>729</td>\n",
       "    </tr>\n",
       "    <tr>\n",
       "      <th>9</th>\n",
       "      <td>100</td>\n",
       "      <td>1000</td>\n",
       "    </tr>\n",
       "  </tbody>\n",
       "</table>\n",
       "</div>"
      ],
      "text/plain": [
       "   sqr   cub\n",
       "0    1     1\n",
       "1    4     8\n",
       "2    9    27\n",
       "3   16    64\n",
       "4   25   125\n",
       "5   36   216\n",
       "6   49   343\n",
       "7   64   512\n",
       "8   81   729\n",
       "9  100  1000"
      ]
     },
     "execution_count": 15,
     "metadata": {},
     "output_type": "execute_result"
    }
   ],
   "source": [
    "df1"
   ]
  },
  {
   "cell_type": "code",
   "execution_count": null,
   "id": "d96adfc0-8314-449c-bf02-076070ac7f51",
   "metadata": {},
   "outputs": [],
   "source": []
  }
 ],
 "metadata": {
  "kernelspec": {
   "display_name": "Python 3 (ipykernel)",
   "language": "python",
   "name": "python3"
  },
  "language_info": {
   "codemirror_mode": {
    "name": "ipython",
    "version": 3
   },
   "file_extension": ".py",
   "mimetype": "text/x-python",
   "name": "python",
   "nbconvert_exporter": "python",
   "pygments_lexer": "ipython3",
   "version": "3.11.7"
  }
 },
 "nbformat": 4,
 "nbformat_minor": 5
}
