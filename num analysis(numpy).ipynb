{
 "cells": [
  {
   "cell_type": "code",
   "execution_count": 1,
   "id": "c2e4c4dd",
   "metadata": {},
   "outputs": [],
   "source": [
    "import pandas as pd\n",
    "import numpy as np\n",
    "import matplotlib.pyplot as plt\n",
    "import seaborn as sc\n",
    "import os"
   ]
  },
  {
   "cell_type": "code",
   "execution_count": 2,
   "id": "cdd0e94f",
   "metadata": {},
   "outputs": [],
   "source": [
    "path=r'E:\\data files\\\\Visadataset.csv'\n",
    "vdf=pd.read_csv(path)"
   ]
  },
  {
   "cell_type": "code",
   "execution_count": 3,
   "id": "83a08289",
   "metadata": {},
   "outputs": [],
   "source": [
    "cat_column=vdf.select_dtypes(include='object').columns\n",
    "num_column=vdf.select_dtypes(exclude='object').columns"
   ]
  },
  {
   "cell_type": "code",
   "execution_count": 4,
   "id": "28d12edb",
   "metadata": {},
   "outputs": [
    {
     "data": {
      "text/plain": [
       "Index(['no_of_employees', 'yr_of_estab', 'prevailing_wage'], dtype='object')"
      ]
     },
     "execution_count": 4,
     "metadata": {},
     "output_type": "execute_result"
    }
   ],
   "source": [
    "num_column"
   ]
  },
  {
   "cell_type": "code",
   "execution_count": 5,
   "id": "be7d5368",
   "metadata": {},
   "outputs": [
    {
     "data": {
      "text/plain": [
       "0           592.2029\n",
       "1         83425.6500\n",
       "2        122996.8600\n",
       "3         83434.0300\n",
       "4        149907.3900\n",
       "            ...     \n",
       "25475     77092.5700\n",
       "25476    279174.7900\n",
       "25477    146298.8500\n",
       "25478     86154.7700\n",
       "25479     70876.9100\n",
       "Name: prevailing_wage, Length: 25480, dtype: float64"
      ]
     },
     "execution_count": 5,
     "metadata": {},
     "output_type": "execute_result"
    }
   ],
   "source": [
    "vdf.loc[:,'prevailing_wage'] #loc uses the name of the column\n"
   ]
  },
  {
   "cell_type": "code",
   "execution_count": 6,
   "id": "be609919",
   "metadata": {},
   "outputs": [
    {
     "data": {
      "text/html": [
       "<div>\n",
       "<style scoped>\n",
       "    .dataframe tbody tr th:only-of-type {\n",
       "        vertical-align: middle;\n",
       "    }\n",
       "\n",
       "    .dataframe tbody tr th {\n",
       "        vertical-align: top;\n",
       "    }\n",
       "\n",
       "    .dataframe thead th {\n",
       "        text-align: right;\n",
       "    }\n",
       "</style>\n",
       "<table border=\"1\" class=\"dataframe\">\n",
       "  <thead>\n",
       "    <tr style=\"text-align: right;\">\n",
       "      <th></th>\n",
       "      <th>prevailing_wage</th>\n",
       "    </tr>\n",
       "  </thead>\n",
       "  <tbody>\n",
       "    <tr>\n",
       "      <th>0</th>\n",
       "      <td>592.2029</td>\n",
       "    </tr>\n",
       "    <tr>\n",
       "      <th>1</th>\n",
       "      <td>83425.6500</td>\n",
       "    </tr>\n",
       "    <tr>\n",
       "      <th>2</th>\n",
       "      <td>122996.8600</td>\n",
       "    </tr>\n",
       "    <tr>\n",
       "      <th>3</th>\n",
       "      <td>83434.0300</td>\n",
       "    </tr>\n",
       "    <tr>\n",
       "      <th>4</th>\n",
       "      <td>149907.3900</td>\n",
       "    </tr>\n",
       "    <tr>\n",
       "      <th>...</th>\n",
       "      <td>...</td>\n",
       "    </tr>\n",
       "    <tr>\n",
       "      <th>25475</th>\n",
       "      <td>77092.5700</td>\n",
       "    </tr>\n",
       "    <tr>\n",
       "      <th>25476</th>\n",
       "      <td>279174.7900</td>\n",
       "    </tr>\n",
       "    <tr>\n",
       "      <th>25477</th>\n",
       "      <td>146298.8500</td>\n",
       "    </tr>\n",
       "    <tr>\n",
       "      <th>25478</th>\n",
       "      <td>86154.7700</td>\n",
       "    </tr>\n",
       "    <tr>\n",
       "      <th>25479</th>\n",
       "      <td>70876.9100</td>\n",
       "    </tr>\n",
       "  </tbody>\n",
       "</table>\n",
       "<p>25480 rows × 1 columns</p>\n",
       "</div>"
      ],
      "text/plain": [
       "       prevailing_wage\n",
       "0             592.2029\n",
       "1           83425.6500\n",
       "2          122996.8600\n",
       "3           83434.0300\n",
       "4          149907.3900\n",
       "...                ...\n",
       "25475       77092.5700\n",
       "25476      279174.7900\n",
       "25477      146298.8500\n",
       "25478       86154.7700\n",
       "25479       70876.9100\n",
       "\n",
       "[25480 rows x 1 columns]"
      ]
     },
     "execution_count": 6,
     "metadata": {},
     "output_type": "execute_result"
    }
   ],
   "source": [
    "vdf.iloc[:,[8]] #iloc uses index number of the column\n"
   ]
  },
  {
   "cell_type": "code",
   "execution_count": 7,
   "id": "9b46070e",
   "metadata": {},
   "outputs": [
    {
     "data": {
      "text/plain": [
       "0           592.2029\n",
       "1         83425.6500\n",
       "2        122996.8600\n",
       "3         83434.0300\n",
       "4        149907.3900\n",
       "            ...     \n",
       "25475     77092.5700\n",
       "25476    279174.7900\n",
       "25477    146298.8500\n",
       "25478     86154.7700\n",
       "25479     70876.9100\n",
       "Name: prevailing_wage, Length: 25480, dtype: float64"
      ]
     },
     "execution_count": 7,
     "metadata": {},
     "output_type": "execute_result"
    }
   ],
   "source": [
    "vdf['prevailing_wage']\n"
   ]
  },
  {
   "cell_type": "code",
   "execution_count": 8,
   "id": "7a424e70",
   "metadata": {},
   "outputs": [
    {
     "data": {
      "text/html": [
       "<div>\n",
       "<style scoped>\n",
       "    .dataframe tbody tr th:only-of-type {\n",
       "        vertical-align: middle;\n",
       "    }\n",
       "\n",
       "    .dataframe tbody tr th {\n",
       "        vertical-align: top;\n",
       "    }\n",
       "\n",
       "    .dataframe thead th {\n",
       "        text-align: right;\n",
       "    }\n",
       "</style>\n",
       "<table border=\"1\" class=\"dataframe\">\n",
       "  <thead>\n",
       "    <tr style=\"text-align: right;\">\n",
       "      <th></th>\n",
       "      <th>prevailing_wage</th>\n",
       "    </tr>\n",
       "  </thead>\n",
       "  <tbody>\n",
       "    <tr>\n",
       "      <th>0</th>\n",
       "      <td>592.2029</td>\n",
       "    </tr>\n",
       "    <tr>\n",
       "      <th>1</th>\n",
       "      <td>83425.6500</td>\n",
       "    </tr>\n",
       "    <tr>\n",
       "      <th>2</th>\n",
       "      <td>122996.8600</td>\n",
       "    </tr>\n",
       "    <tr>\n",
       "      <th>3</th>\n",
       "      <td>83434.0300</td>\n",
       "    </tr>\n",
       "    <tr>\n",
       "      <th>4</th>\n",
       "      <td>149907.3900</td>\n",
       "    </tr>\n",
       "    <tr>\n",
       "      <th>...</th>\n",
       "      <td>...</td>\n",
       "    </tr>\n",
       "    <tr>\n",
       "      <th>25475</th>\n",
       "      <td>77092.5700</td>\n",
       "    </tr>\n",
       "    <tr>\n",
       "      <th>25476</th>\n",
       "      <td>279174.7900</td>\n",
       "    </tr>\n",
       "    <tr>\n",
       "      <th>25477</th>\n",
       "      <td>146298.8500</td>\n",
       "    </tr>\n",
       "    <tr>\n",
       "      <th>25478</th>\n",
       "      <td>86154.7700</td>\n",
       "    </tr>\n",
       "    <tr>\n",
       "      <th>25479</th>\n",
       "      <td>70876.9100</td>\n",
       "    </tr>\n",
       "  </tbody>\n",
       "</table>\n",
       "<p>25480 rows × 1 columns</p>\n",
       "</div>"
      ],
      "text/plain": [
       "       prevailing_wage\n",
       "0             592.2029\n",
       "1           83425.6500\n",
       "2          122996.8600\n",
       "3           83434.0300\n",
       "4          149907.3900\n",
       "...                ...\n",
       "25475       77092.5700\n",
       "25476      279174.7900\n",
       "25477      146298.8500\n",
       "25478       86154.7700\n",
       "25479       70876.9100\n",
       "\n",
       "[25480 rows x 1 columns]"
      ]
     },
     "execution_count": 8,
     "metadata": {},
     "output_type": "execute_result"
    }
   ],
   "source": [
    "vdf[['prevailing_wage']]"
   ]
  },
  {
   "cell_type": "markdown",
   "id": "9dc856dd",
   "metadata": {},
   "source": [
    "- len \n",
    "\n",
    "- min \n",
    "\n",
    "- max \n",
    "\n",
    "- avg() \n",
    "\n",
    "- standard deviation std \n",
    "\n",
    "- meadian\n",
    "\n",
    "- 25p \n",
    "\n",
    "- 50p \n",
    "\n",
    "- 75p"
   ]
  },
  {
   "cell_type": "code",
   "execution_count": 9,
   "id": "a78e75a1",
   "metadata": {},
   "outputs": [
    {
     "data": {
      "text/plain": [
       "25480"
      ]
     },
     "execution_count": 9,
     "metadata": {},
     "output_type": "execute_result"
    }
   ],
   "source": [
    "#length\n",
    "len(vdf[['prevailing_wage']])"
   ]
  },
  {
   "cell_type": "code",
   "execution_count": 10,
   "id": "96a4f883",
   "metadata": {},
   "outputs": [
    {
     "data": {
      "text/plain": [
       "2.1367"
      ]
     },
     "execution_count": 10,
     "metadata": {},
     "output_type": "execute_result"
    }
   ],
   "source": [
    "#min\n",
    "min(vdf['prevailing_wage'])"
   ]
  },
  {
   "cell_type": "code",
   "execution_count": 11,
   "id": "9b9dc15c",
   "metadata": {},
   "outputs": [
    {
     "data": {
      "text/plain": [
       "319210.27"
      ]
     },
     "execution_count": 11,
     "metadata": {},
     "output_type": "execute_result"
    }
   ],
   "source": [
    "#max\n",
    "max(vdf['prevailing_wage'])"
   ]
  },
  {
   "cell_type": "markdown",
   "id": "d7e5bebf",
   "metadata": {},
   "source": [
    "**mean**"
   ]
  },
  {
   "cell_type": "code",
   "execution_count": 12,
   "id": "c0a3911b",
   "metadata": {},
   "outputs": [
    {
     "data": {
      "text/plain": [
       "prevailing_wage    74455.814592\n",
       "dtype: float64"
      ]
     },
     "execution_count": 12,
     "metadata": {},
     "output_type": "execute_result"
    }
   ],
   "source": [
    "#mean\n",
    "vdf[['prevailing_wage']].mean()"
   ]
  },
  {
   "cell_type": "code",
   "execution_count": 13,
   "id": "e412d35a",
   "metadata": {},
   "outputs": [
    {
     "data": {
      "text/plain": [
       "74455.81459209183"
      ]
     },
     "execution_count": 13,
     "metadata": {},
     "output_type": "execute_result"
    }
   ],
   "source": [
    "vdf['prevailing_wage'].mean()"
   ]
  },
  {
   "cell_type": "markdown",
   "id": "041a0a44",
   "metadata": {},
   "source": [
    "**median**"
   ]
  },
  {
   "cell_type": "code",
   "execution_count": 14,
   "id": "bf663494",
   "metadata": {},
   "outputs": [
    {
     "data": {
      "text/plain": [
       "prevailing_wage    70308.21\n",
       "dtype: float64"
      ]
     },
     "execution_count": 14,
     "metadata": {},
     "output_type": "execute_result"
    }
   ],
   "source": [
    "vdf[['prevailing_wage']].median()"
   ]
  },
  {
   "cell_type": "code",
   "execution_count": 15,
   "id": "af7a75e4",
   "metadata": {},
   "outputs": [
    {
     "data": {
      "text/plain": [
       "70308.20999999999"
      ]
     },
     "execution_count": 15,
     "metadata": {},
     "output_type": "execute_result"
    }
   ],
   "source": [
    "vdf['prevailing_wage'].median()"
   ]
  },
  {
   "cell_type": "code",
   "execution_count": 16,
   "id": "97b8a71a",
   "metadata": {},
   "outputs": [
    {
     "name": "stdout",
     "output_type": "stream",
     "text": [
      "the average wage is : 74455.81\n",
      "the median wage is : 70308.21\n"
     ]
    }
   ],
   "source": [
    "mean_wage=round(vdf['prevailing_wage'].mean(),2)\n",
    "median_wage=round(vdf['prevailing_wage'].median(),2)\n",
    "print('the average wage is :',mean_wage)\n",
    "print('the median wage is :',median_wage)"
   ]
  },
  {
   "cell_type": "markdown",
   "id": "f3bbd6d5",
   "metadata": {},
   "source": [
    "- mode is not a suuitable for numerical analysis\n",
    "\n",
    "- different observation  can have same values"
   ]
  },
  {
   "cell_type": "markdown",
   "id": "f21ba177",
   "metadata": {},
   "source": [
    "**using numpy**"
   ]
  },
  {
   "cell_type": "code",
   "execution_count": 17,
   "id": "c9d75645",
   "metadata": {},
   "outputs": [
    {
     "data": {
      "text/plain": [
       "74455.81459209183"
      ]
     },
     "execution_count": 17,
     "metadata": {},
     "output_type": "execute_result"
    }
   ],
   "source": [
    "np.mean(vdf['prevailing_wage'])"
   ]
  },
  {
   "cell_type": "code",
   "execution_count": 18,
   "id": "e8545813",
   "metadata": {},
   "outputs": [
    {
     "data": {
      "text/plain": [
       "70308.20999999999"
      ]
     },
     "execution_count": 18,
     "metadata": {},
     "output_type": "execute_result"
    }
   ],
   "source": [
    "np.median(vdf['prevailing_wage'])"
   ]
  },
  {
   "cell_type": "markdown",
   "id": "d1abc6e2",
   "metadata": {},
   "source": [
    "**standard deviation std**"
   ]
  },
  {
   "cell_type": "code",
   "execution_count": 19,
   "id": "5145daba",
   "metadata": {},
   "outputs": [
    {
     "data": {
      "text/plain": [
       "52815.94232687357"
      ]
     },
     "execution_count": 19,
     "metadata": {},
     "output_type": "execute_result"
    }
   ],
   "source": [
    "vdf['prevailing_wage'].std()"
   ]
  },
  {
   "cell_type": "code",
   "execution_count": 20,
   "id": "9b78fdea",
   "metadata": {},
   "outputs": [
    {
     "data": {
      "text/plain": [
       "52815.94"
      ]
     },
     "execution_count": 20,
     "metadata": {},
     "output_type": "execute_result"
    }
   ],
   "source": [
    "std_wage=round(vdf['prevailing_wage'].std(),2)\n",
    "std_wage"
   ]
  },
  {
   "cell_type": "code",
   "execution_count": 21,
   "id": "1c7cf0a2",
   "metadata": {},
   "outputs": [
    {
     "name": "stdout",
     "output_type": "stream",
     "text": [
      "the average wage is : 74455.81\n",
      "the median wage is : 70308.21\n",
      "the standard deviation  wage is : 52815.94\n"
     ]
    }
   ],
   "source": [
    "mean_wage=round(vdf['prevailing_wage'].mean(),2)\n",
    "median_wage=round(vdf['prevailing_wage'].median(),2)\n",
    "std_wage=round(vdf['prevailing_wage'].std(),2)\n",
    "print('the average wage is :',mean_wage)\n",
    "print('the median wage is :',median_wage)\n",
    "print('the standard deviation  wage is :',std_wage)"
   ]
  },
  {
   "cell_type": "code",
   "execution_count": 22,
   "id": "a15ab7f4",
   "metadata": {},
   "outputs": [],
   "source": [
    "#step-1: create an empty list append the values\n",
    "#step-2: create an index list\n",
    "#step-3: create a col list"
   ]
  },
  {
   "cell_type": "code",
   "execution_count": 23,
   "id": "b7aa28f9",
   "metadata": {},
   "outputs": [
    {
     "data": {
      "text/html": [
       "<div>\n",
       "<style scoped>\n",
       "    .dataframe tbody tr th:only-of-type {\n",
       "        vertical-align: middle;\n",
       "    }\n",
       "\n",
       "    .dataframe tbody tr th {\n",
       "        vertical-align: top;\n",
       "    }\n",
       "\n",
       "    .dataframe thead th {\n",
       "        text-align: right;\n",
       "    }\n",
       "</style>\n",
       "<table border=\"1\" class=\"dataframe\">\n",
       "  <thead>\n",
       "    <tr style=\"text-align: right;\">\n",
       "      <th></th>\n",
       "      <th>prevailing_wage</th>\n",
       "    </tr>\n",
       "  </thead>\n",
       "  <tbody>\n",
       "    <tr>\n",
       "      <th>mean</th>\n",
       "      <td>74455.81</td>\n",
       "    </tr>\n",
       "    <tr>\n",
       "      <th>median</th>\n",
       "      <td>70308.21</td>\n",
       "    </tr>\n",
       "    <tr>\n",
       "      <th>std</th>\n",
       "      <td>52815.94</td>\n",
       "    </tr>\n",
       "  </tbody>\n",
       "</table>\n",
       "</div>"
      ],
      "text/plain": [
       "        prevailing_wage\n",
       "mean           74455.81\n",
       "median         70308.21\n",
       "std            52815.94"
      ]
     },
     "execution_count": 23,
     "metadata": {},
     "output_type": "execute_result"
    }
   ],
   "source": [
    "list=[]\n",
    "list.append(mean_wage)\n",
    "list.append(median_wage)\n",
    "list.append(std_wage)\n",
    "\n",
    "ind=['mean','median','std']\n",
    "col=['prevailing_wage']\n",
    "num_df1=pd.DataFrame(list,columns=col,index=ind)\n",
    "num_df1"
   ]
  },
  {
   "cell_type": "code",
   "execution_count": 24,
   "id": "51062d9a",
   "metadata": {},
   "outputs": [
    {
     "data": {
      "text/html": [
       "<div>\n",
       "<style scoped>\n",
       "    .dataframe tbody tr th:only-of-type {\n",
       "        vertical-align: middle;\n",
       "    }\n",
       "\n",
       "    .dataframe tbody tr th {\n",
       "        vertical-align: top;\n",
       "    }\n",
       "\n",
       "    .dataframe thead th {\n",
       "        text-align: right;\n",
       "    }\n",
       "</style>\n",
       "<table border=\"1\" class=\"dataframe\">\n",
       "  <thead>\n",
       "    <tr style=\"text-align: right;\">\n",
       "      <th></th>\n",
       "      <th>prevailing_wage</th>\n",
       "    </tr>\n",
       "  </thead>\n",
       "  <tbody>\n",
       "    <tr>\n",
       "      <th>mean</th>\n",
       "      <td>74455.8100</td>\n",
       "    </tr>\n",
       "    <tr>\n",
       "      <th>median</th>\n",
       "      <td>70308.2100</td>\n",
       "    </tr>\n",
       "    <tr>\n",
       "      <th>std</th>\n",
       "      <td>52815.9400</td>\n",
       "    </tr>\n",
       "    <tr>\n",
       "      <th>length</th>\n",
       "      <td>25480.0000</td>\n",
       "    </tr>\n",
       "    <tr>\n",
       "      <th>min</th>\n",
       "      <td>2.1367</td>\n",
       "    </tr>\n",
       "    <tr>\n",
       "      <th>max</th>\n",
       "      <td>319210.2700</td>\n",
       "    </tr>\n",
       "  </tbody>\n",
       "</table>\n",
       "</div>"
      ],
      "text/plain": [
       "        prevailing_wage\n",
       "mean         74455.8100\n",
       "median       70308.2100\n",
       "std          52815.9400\n",
       "length       25480.0000\n",
       "min              2.1367\n",
       "max         319210.2700"
      ]
     },
     "execution_count": 24,
     "metadata": {},
     "output_type": "execute_result"
    }
   ],
   "source": [
    "value=[mean_wage,median_wage,std_wage]\n",
    "value.append(len(vdf[['prevailing_wage']]))\n",
    "value.append(min(vdf['prevailing_wage']))\n",
    "value.append(max(vdf['prevailing_wage']))\n",
    "ind=['mean','median','std','length','min','max']\n",
    "col=['prevailing_wage']\n",
    "num_df=pd.DataFrame(value,columns=col,index=ind)\n",
    "num_df"
   ]
  },
  {
   "cell_type": "markdown",
   "id": "7bde1a81",
   "metadata": {},
   "source": [
    "**percentile**\n",
    "\n",
    "- in numpy we have percentile\n",
    "\n",
    "- the method is np.percentile()\n",
    "\n",
    "    -  it takes the 2 arguments \n",
    "\n",
    "    - a: array means data\n",
    "\n",
    "    - q: value which percentile data we want , that value we need to provide\n",
    "\n",
    "    - if we want 25p value then q=25\n",
    "\n",
    "**quantile**\n",
    "\n",
    "- in numpy we have quantile \n",
    "\n",
    "- the methof is np.quantile()\n",
    "\n",
    "    - it takes the 2 arguments \n",
    "\n",
    "    - a: array means data\n",
    "\n",
    "    - q: value which quantile data between 0 to 1 we want , that value we need to provide\n",
    "\n",
    "    - if we want 25p value then q=0.25\n",
    " \n",
    "    - if we want 50p value then q=0.50\n"
   ]
  },
  {
   "cell_type": "code",
   "execution_count": 25,
   "id": "e009bec4",
   "metadata": {},
   "outputs": [
    {
     "data": {
      "text/plain": [
       "42032.848999999995"
      ]
     },
     "execution_count": 25,
     "metadata": {},
     "output_type": "execute_result"
    }
   ],
   "source": [
    "np.percentile(vdf['prevailing_wage'],30)\n",
    "#0 to 100"
   ]
  },
  {
   "cell_type": "code",
   "execution_count": 26,
   "id": "e97aa6a2",
   "metadata": {},
   "outputs": [
    {
     "data": {
      "text/plain": [
       "42032.848999999995"
      ]
     },
     "execution_count": 26,
     "metadata": {},
     "output_type": "execute_result"
    }
   ],
   "source": [
    "np.quantile(vdf['prevailing_wage'],0.30)\n",
    "#0 to 1"
   ]
  },
  {
   "cell_type": "code",
   "execution_count": 27,
   "id": "324c4ce6",
   "metadata": {},
   "outputs": [
    {
     "name": "stdout",
     "output_type": "stream",
     "text": [
      "25p value is: 34015.48\n",
      "50p value is: 70308.21\n",
      "75p value is: 107735.51\n"
     ]
    }
   ],
   "source": [
    "wage_25p=round(np.percentile(vdf['prevailing_wage'],25),2)\n",
    "wage_50p=round(np.percentile(vdf['prevailing_wage'],50),2)\n",
    "wage_75p=round(np.percentile(vdf['prevailing_wage'],75),2)\n",
    "print('25p value is:',wage_25p)\n",
    "print('50p value is:',wage_50p)\n",
    "print('75p value is:',wage_75p)"
   ]
  },
  {
   "cell_type": "code",
   "execution_count": 28,
   "id": "f5e6f4e6",
   "metadata": {},
   "outputs": [
    {
     "data": {
      "text/html": [
       "<div>\n",
       "<style scoped>\n",
       "    .dataframe tbody tr th:only-of-type {\n",
       "        vertical-align: middle;\n",
       "    }\n",
       "\n",
       "    .dataframe tbody tr th {\n",
       "        vertical-align: top;\n",
       "    }\n",
       "\n",
       "    .dataframe thead th {\n",
       "        text-align: right;\n",
       "    }\n",
       "</style>\n",
       "<table border=\"1\" class=\"dataframe\">\n",
       "  <thead>\n",
       "    <tr style=\"text-align: right;\">\n",
       "      <th></th>\n",
       "      <th>prevailing_wage</th>\n",
       "    </tr>\n",
       "  </thead>\n",
       "  <tbody>\n",
       "    <tr>\n",
       "      <th>mean</th>\n",
       "      <td>74455.8100</td>\n",
       "    </tr>\n",
       "    <tr>\n",
       "      <th>median</th>\n",
       "      <td>70308.2100</td>\n",
       "    </tr>\n",
       "    <tr>\n",
       "      <th>std</th>\n",
       "      <td>52815.9400</td>\n",
       "    </tr>\n",
       "    <tr>\n",
       "      <th>length</th>\n",
       "      <td>25480.0000</td>\n",
       "    </tr>\n",
       "    <tr>\n",
       "      <th>min</th>\n",
       "      <td>2.1367</td>\n",
       "    </tr>\n",
       "    <tr>\n",
       "      <th>max</th>\n",
       "      <td>319210.2700</td>\n",
       "    </tr>\n",
       "  </tbody>\n",
       "</table>\n",
       "</div>"
      ],
      "text/plain": [
       "        prevailing_wage\n",
       "mean         74455.8100\n",
       "median       70308.2100\n",
       "std          52815.9400\n",
       "length       25480.0000\n",
       "min              2.1367\n",
       "max         319210.2700"
      ]
     },
     "execution_count": 28,
     "metadata": {},
     "output_type": "execute_result"
    }
   ],
   "source": [
    "value=[mean_wage,median_wage,std_wage,]\n",
    "value.append(len(vdf[['prevailing_wage']]))\n",
    "value.append(min(vdf['prevailing_wage']))\n",
    "value.append(max(vdf['prevailing_wage']))\n",
    "ind=['mean','median','std','length','min','max']\n",
    "col=['prevailing_wage']\n",
    "num_df=pd.DataFrame(value,columns=col,index=ind)\n",
    "num_df"
   ]
  },
  {
   "cell_type": "code",
   "execution_count": 29,
   "id": "40f959c3",
   "metadata": {},
   "outputs": [
    {
     "ename": "TypeError",
     "evalue": "DataFrame.update() missing 1 required positional argument: 'other'",
     "output_type": "error",
     "traceback": [
      "\u001b[1;31m---------------------------------------------------------------------------\u001b[0m",
      "\u001b[1;31mTypeError\u001b[0m                                 Traceback (most recent call last)",
      "Cell \u001b[1;32mIn[29], line 1\u001b[0m\n\u001b[1;32m----> 1\u001b[0m num_df\u001b[38;5;241m.\u001b[39mupdate()\n",
      "\u001b[1;31mTypeError\u001b[0m: DataFrame.update() missing 1 required positional argument: 'other'"
     ]
    }
   ],
   "source": [
    "num_df.update()"
   ]
  },
  {
   "cell_type": "code",
   "execution_count": null,
   "id": "9869b002",
   "metadata": {},
   "outputs": [],
   "source": [
    "#describe\n",
    "vdf.describe()"
   ]
  },
  {
   "cell_type": "code",
   "execution_count": null,
   "id": "0c2c9d4b",
   "metadata": {},
   "outputs": [],
   "source": [
    "#do the above without using describe\n",
    "df1=pd.DataFrame()\n",
    "for i in num_column:\n",
    "    leng=len(vdf[i])\n",
    "    mn=min(vdf[i])\n",
    "    mx=max(vdf[i])\n",
    "    mean=round(vdf[i].mean(),2)\n",
    "    std=round(vdf[i].std(),2)\n",
    "    wage_25p=round(np.percentile(vdf[i],25),2)\n",
    "    wage_50p=round(np.percentile(vdf[i],50),2)\n",
    "    wage_75p=round(np.percentile(vdf[i],75),2)\n",
    "    value=[leng,mn,mx,mean,std,wage_25p,wage_50p,wage_75p]\n",
    "    index=['length','min','max','mean','std','25%','50%','75%']\n",
    "    col=[i]\n",
    "    df2=pd.DataFrame(value,index=index,columns=col)\n",
    "    df1=pd.concat([df1,df2],axis=1)\n",
    "df1"
   ]
  },
  {
   "cell_type": "code",
   "execution_count": null,
   "id": "fe571ad6",
   "metadata": {},
   "outputs": [],
   "source": [
    "**percentile**\n",
    "\n",
    "- 25p- 25 percentile is x\n",
    "\n",
    "        25 percentile of data is less then x"
   ]
  },
  {
   "cell_type": "code",
   "execution_count": null,
   "id": "3a4e47e0",
   "metadata": {},
   "outputs": [],
   "source": [
    "# step1= read the prevailling value\n",
    "# step2=provide the condition\n",
    "#         prevailing value < percentile value\n",
    "    \n",
    "wage=vdf['prevailing_wage']\n",
    "p25=np.percentile(vdf['prevailing_wage'],25)\n",
    "con=wage<p25\n",
    "vdf[con]"
   ]
  },
  {
   "cell_type": "code",
   "execution_count": null,
   "id": "da8b94ff",
   "metadata": {},
   "outputs": [],
   "source": [
    "wage<p25"
   ]
  },
  {
   "cell_type": "code",
   "execution_count": null,
   "id": "9c5cd2f3",
   "metadata": {},
   "outputs": [],
   "source": [
    "wage=vdf['prevailing_wage']\n",
    "p50=np.percentile(vdf['prevailing_wage'],50)\n",
    "con=wage<p50\n",
    "vdf[con]"
   ]
  },
  {
   "cell_type": "code",
   "execution_count": null,
   "id": "a20a1379",
   "metadata": {},
   "outputs": [],
   "source": [
    "wage=vdf['prevailing_wage']\n",
    "p75=np.percentile(vdf['prevailing_wage'],75)\n",
    "con=wage<p75\n",
    "print(vdf[con])\n",
    "print(len(vdf[con]))"
   ]
  },
  {
   "cell_type": "code",
   "execution_count": null,
   "id": "03b9c27b",
   "metadata": {},
   "outputs": [],
   "source": [
    "**emperical rule**\n",
    "\n",
    "-68\n",
    "\n",
    "-95\n",
    "\n",
    "-99.7"
   ]
  },
  {
   "cell_type": "code",
   "execution_count": null,
   "id": "b3caa0e9",
   "metadata": {},
   "outputs": [],
   "source": [
    "step 1 cal mean of prevailing_wage\n",
    "\n",
    "step 2 cal std of prevailing\n",
    "\n",
    "step 3 lb= mean-1*std\n",
    "\n",
    "step 4 ub=mean+1*std\n",
    "\n",
    "step 5 con1=data<ub\n",
    "\n",
    "step 6 con2= data>lb\n",
    "\n",
    "step 7 con3= con1 and con2\n",
    "\n",
    "step 8 data[con3]\n",
    "\n",
    "step 9 compare with 68% 25480 count"
   ]
  },
  {
   "cell_type": "code",
   "execution_count": null,
   "id": "d6123999",
   "metadata": {},
   "outputs": [],
   "source": [
    "mean=round(vdf['prevailing_wage'].mean(),2)\n",
    "std=round(vdf['prevailing_wage'].std(),2)\n",
    "lb=mean-1*std\n",
    "ub=mean+1*std\n",
    "c1=vdf['prevailing_wage']<ub\n",
    "c2=vdf['prevailing_wage']>lb\n",
    "con3=c1 & c2\n",
    "vdf[con3]"
   ]
  },
  {
   "cell_type": "code",
   "execution_count": null,
   "id": "5f76c1e7",
   "metadata": {},
   "outputs": [],
   "source": [
    "mean=round(vdf['prevailing_wage'].mean(),2)\n",
    "std=round(vdf['prevailing_wage'].std(),2)\n",
    "lb=mean-2*std\n",
    "ub=mean+2*std\n",
    "c1=vdf['prevailing_wage']<ub\n",
    "c2=vdf['prevailing_wage']>lb\n",
    "con3=c1 & c2\n",
    "vdf[con3]"
   ]
  },
  {
   "cell_type": "code",
   "execution_count": null,
   "id": "6d8059ea",
   "metadata": {},
   "outputs": [],
   "source": [
    "mean=round(vdf['prevailing_wage'].mean(),2)\n",
    "std=round(vdf['prevailing_wage'].std(),2)\n",
    "lb=mean-3*std\n",
    "ub=mean+3*std\n",
    "c1=vdf['prevailing_wage']<ub\n",
    "c2=vdf['prevailing_wage']>lb\n",
    "con3=c1 & c2\n",
    "vdf[con3]"
   ]
  },
  {
   "cell_type": "code",
   "execution_count": null,
   "id": "8414c9a1",
   "metadata": {},
   "outputs": [],
   "source": [
    "for i in num_column:\n",
    "    mean=round(vdf[i].mean(),2)\n",
    "    std=round(vdf[i].std(),2)\n",
    "    lb=mean-3*std\n",
    "    ub=mean+3*std\n",
    "    c1=vdf[i]<ub\n",
    "    c2=vdf[i]>lb\n",
    "    con3=c1 & c2\n",
    "    vdf[con3]"
   ]
  },
  {
   "cell_type": "code",
   "execution_count": null,
   "id": "92d16308",
   "metadata": {},
   "outputs": [],
   "source": [
    "len(vdf)"
   ]
  },
  {
   "cell_type": "code",
   "execution_count": null,
   "id": "b03fd118",
   "metadata": {},
   "outputs": [],
   "source": [
    "0.997*25480"
   ]
  },
  {
   "cell_type": "code",
   "execution_count": null,
   "id": "3c9b0092",
   "metadata": {},
   "outputs": [],
   "source": [
    "vdf.isnull().sum()"
   ]
  },
  {
   "cell_type": "markdown",
   "id": "25224d77",
   "metadata": {},
   "source": [
    "**histogram**\n",
    "\n",
    "- by applying emperical rule we observed slight deviation in the count of data\n",
    "\n",
    "- mean is slightly deviated from median , this indicate that data doesnot follow normal distribution\n",
    "\n",
    "- to understand we need to visualuze it\n",
    "\n",
    "- the plot name is histogram \n",
    "\n",
    "- hist is a graph between class interval and class interval frequency.\n",
    "\n",
    "- plot is available in matplotlib\n",
    "\n",
    "- method name is hist"
   ]
  },
  {
   "cell_type": "code",
   "execution_count": 39,
   "id": "fa262b6f",
   "metadata": {},
   "outputs": [
    {
     "data": {
      "text/plain": [
       "(array([3863., 2175., 2676., 2828., 2889., 2792., 2485., 2066., 1452.,\n",
       "         882.,  408.,  216.,  206.,  167.,  129.,  111.,   66.,   48.,\n",
       "          10.,   11.]),\n",
       " array([2.13670000e+00, 1.59625434e+04, 3.19229500e+04, 4.78833567e+04,\n",
       "        6.38437634e+04, 7.98041700e+04, 9.57645767e+04, 1.11724983e+05,\n",
       "        1.27685390e+05, 1.43645797e+05, 1.59606203e+05, 1.75566610e+05,\n",
       "        1.91527017e+05, 2.07487423e+05, 2.23447830e+05, 2.39408237e+05,\n",
       "        2.55368643e+05, 2.71329050e+05, 2.87289457e+05, 3.03249863e+05,\n",
       "        3.19210270e+05]),\n",
       " [<matplotlib.patches.Polygon at 0x1c5c45c4590>])"
      ]
     },
     "execution_count": 39,
     "metadata": {},
     "output_type": "execute_result"
    },
    {
     "data": {
      "image/png": "[encoded data removed]",
      "text/plain": [
       "<Figure size 640x480 with 1 Axes>"
      ]
     },
     "metadata": {},
     "output_type": "display_data"
    }
   ],
   "source": [
    "plt.hist(x=vdf['prevailing_wage'],bins=20,histtype='stepfilled')"
   ]
  },
  {
   "cell_type": "code",
   "execution_count": null,
   "id": "2d47bec0",
   "metadata": {},
   "outputs": [],
   "source": []
  },
  {
   "cell_type": "code",
   "execution_count": null,
   "id": "e63bd72f",
   "metadata": {},
   "outputs": [],
   "source": [
    "1.59625434e+04"
   ]
  },
  {
   "cell_type": "markdown",
   "id": "8a2cb785",
   "metadata": {},
   "source": [
    "-histo will return 3 values \n",
    "\n",
    "    - 1 is interval count\n",
    "\n",
    "        - we have 20 interval so we have 20 interval counts\n",
    "    \n",
    "    - 2 is no of interval\n",
    "    \n",
    "        - we have 20 intervals so we need 21 values\n",
    "        \n",
    "    - 3 will display how many intervals are available\n",
    "    \n",
    "- for ex in the bins aray the first two forms\n",
    "\n",
    "- 2.136 to 15962.5434 the count is 3862\n",
    "\n",
    "- 3863 observation are available between 2.136 to 15962.5434\n",
    "\n",
    "- similarly 2175 obs will be available between (1.59625434e+04, 3.19229500e+04)\n",
    "    "
   ]
  },
  {
   "cell_type": "code",
   "execution_count": 30,
   "id": "bf315f6e",
   "metadata": {},
   "outputs": [
    {
     "name": "stdout",
     "output_type": "stream",
     "text": [
      "20\n",
      "21\n"
     ]
    },
    {
     "data": {
      "image/png": "[encoded data removed]",
      "text/plain": [
       "<Figure size 640x480 with 1 Axes>"
      ]
     },
     "metadata": {},
     "output_type": "display_data"
    }
   ],
   "source": [
    "count,bins,x=plt.hist(x=vdf['prevailing_wage'],bins=20,histtype='stepfilled')\n",
    "print(len(count))\n",
    "print(len(bins))"
   ]
  },
  {
   "cell_type": "code",
   "execution_count": 31,
   "id": "52a07122",
   "metadata": {},
   "outputs": [
    {
     "data": {
      "text/plain": [
       "3863"
      ]
     },
     "execution_count": 31,
     "metadata": {},
     "output_type": "execute_result"
    }
   ],
   "source": [
    "# verify the below two steps\n",
    "\n",
    "# 3863 observation are available between 2.136 to 15962.5434\n",
    "\n",
    "# similarly 2175 obs will be available between (1.59625434e+04, 3.19229500e+04)\n",
    "\n",
    "lb=2.1367\n",
    "ub=15962.5434\n",
    "c1=vdf['prevailing_wage']<=ub\n",
    "c2=vdf['prevailing_wage']>=lb\n",
    "con3=c1 & c2\n",
    "len(vdf[con3])"
   ]
  },
  {
   "cell_type": "code",
   "execution_count": null,
   "id": "83c7d849",
   "metadata": {},
   "outputs": [],
   "source": []
  },
  {
   "cell_type": "code",
   "execution_count": 32,
   "id": "c5a90b59",
   "metadata": {},
   "outputs": [
    {
     "data": {
      "text/plain": [
       "[3863,\n",
       " 2175,\n",
       " 2676,\n",
       " 2828,\n",
       " 2889,\n",
       " 2792,\n",
       " 2485,\n",
       " 2066,\n",
       " 1452,\n",
       " 882,\n",
       " 408,\n",
       " 216,\n",
       " 206,\n",
       " 167,\n",
       " 129,\n",
       " 111,\n",
       " 66,\n",
       " 48,\n",
       " 10,\n",
       " 11]"
      ]
     },
     "execution_count": 32,
     "metadata": {},
     "output_type": "execute_result"
    }
   ],
   "source": [
    "c=[2.13670000e+00, 1.59625434e+04, 3.19229500e+04, 4.78833567e+04,\n",
    "        6.38437634e+04, 7.98041700e+04, 9.57645767e+04, 1.11724983e+05,\n",
    "        1.27685390e+05, 1.43645797e+05, 1.59606203e+05, 1.75566610e+05,\n",
    "        1.91527017e+05, 2.07487423e+05, 2.23447830e+05, 2.39408237e+05,\n",
    "        2.55368643e+05, 2.71329050e+05, 2.87289457e+05, 3.03249863e+05,\n",
    "        3.19210270e+05]\n",
    "co=[]\n",
    "for i in range(len(bins)-1):\n",
    "    lb=bins[i]\n",
    "    ub=bins[i+1]\n",
    "    c1=vdf['prevailing_wage']<=ub\n",
    "    c2=vdf['prevailing_wage']>=lb\n",
    "    con3=c1 & c2\n",
    "    l=len(vdf[con3])\n",
    "    co.append(l)\n",
    "co"
   ]
  },
  {
   "cell_type": "code",
   "execution_count": null,
   "id": "861a7294",
   "metadata": {},
   "outputs": [],
   "source": [
    "count"
   ]
  },
  {
   "cell_type": "code",
   "execution_count": null,
   "id": "1899bcca",
   "metadata": {},
   "outputs": [],
   "source": [
    "bins"
   ]
  },
  {
   "cell_type": "code",
   "execution_count": 38,
   "id": "a0d89584",
   "metadata": {},
   "outputs": [
    {
     "data": {
      "text/html": [
       "<div>\n",
       "<style scoped>\n",
       "    .dataframe tbody tr th:only-of-type {\n",
       "        vertical-align: middle;\n",
       "    }\n",
       "\n",
       "    .dataframe tbody tr th {\n",
       "        vertical-align: top;\n",
       "    }\n",
       "\n",
       "    .dataframe thead th {\n",
       "        text-align: right;\n",
       "    }\n",
       "</style>\n",
       "<table border=\"1\" class=\"dataframe\">\n",
       "  <thead>\n",
       "    <tr style=\"text-align: right;\">\n",
       "      <th></th>\n",
       "      <th>interval</th>\n",
       "      <th>count</th>\n",
       "    </tr>\n",
       "  </thead>\n",
       "  <tbody>\n",
       "    <tr>\n",
       "      <th>0</th>\n",
       "      <td>2.1367 - 15962.543365000001</td>\n",
       "      <td>3863.0</td>\n",
       "    </tr>\n",
       "    <tr>\n",
       "      <th>1</th>\n",
       "      <td>15962.543365000001 - 31922.950030000004</td>\n",
       "      <td>2175.0</td>\n",
       "    </tr>\n",
       "    <tr>\n",
       "      <th>2</th>\n",
       "      <td>31922.950030000004 - 47883.35669500001</td>\n",
       "      <td>2676.0</td>\n",
       "    </tr>\n",
       "    <tr>\n",
       "      <th>3</th>\n",
       "      <td>47883.35669500001 - 63843.76336000001</td>\n",
       "      <td>2828.0</td>\n",
       "    </tr>\n",
       "    <tr>\n",
       "      <th>4</th>\n",
       "      <td>63843.76336000001 - 79804.17002500001</td>\n",
       "      <td>2889.0</td>\n",
       "    </tr>\n",
       "    <tr>\n",
       "      <th>5</th>\n",
       "      <td>79804.17002500001 - 95764.57669000002</td>\n",
       "      <td>2792.0</td>\n",
       "    </tr>\n",
       "    <tr>\n",
       "      <th>6</th>\n",
       "      <td>95764.57669000002 - 111724.98335500002</td>\n",
       "      <td>2485.0</td>\n",
       "    </tr>\n",
       "    <tr>\n",
       "      <th>7</th>\n",
       "      <td>111724.98335500002 - 127685.39002000002</td>\n",
       "      <td>2066.0</td>\n",
       "    </tr>\n",
       "    <tr>\n",
       "      <th>8</th>\n",
       "      <td>127685.39002000002 - 143645.79668500004</td>\n",
       "      <td>1452.0</td>\n",
       "    </tr>\n",
       "    <tr>\n",
       "      <th>9</th>\n",
       "      <td>143645.79668500004 - 159606.20335000003</td>\n",
       "      <td>882.0</td>\n",
       "    </tr>\n",
       "    <tr>\n",
       "      <th>10</th>\n",
       "      <td>159606.20335000003 - 175566.610015</td>\n",
       "      <td>408.0</td>\n",
       "    </tr>\n",
       "    <tr>\n",
       "      <th>11</th>\n",
       "      <td>175566.610015 - 191527.01668000003</td>\n",
       "      <td>216.0</td>\n",
       "    </tr>\n",
       "    <tr>\n",
       "      <th>12</th>\n",
       "      <td>191527.01668000003 - 207487.42334500005</td>\n",
       "      <td>206.0</td>\n",
       "    </tr>\n",
       "    <tr>\n",
       "      <th>13</th>\n",
       "      <td>207487.42334500005 - 223447.83001000003</td>\n",
       "      <td>167.0</td>\n",
       "    </tr>\n",
       "    <tr>\n",
       "      <th>14</th>\n",
       "      <td>223447.83001000003 - 239408.23667500002</td>\n",
       "      <td>129.0</td>\n",
       "    </tr>\n",
       "    <tr>\n",
       "      <th>15</th>\n",
       "      <td>239408.23667500002 - 255368.64334000004</td>\n",
       "      <td>111.0</td>\n",
       "    </tr>\n",
       "    <tr>\n",
       "      <th>16</th>\n",
       "      <td>255368.64334000004 - 271329.050005</td>\n",
       "      <td>66.0</td>\n",
       "    </tr>\n",
       "    <tr>\n",
       "      <th>17</th>\n",
       "      <td>271329.050005 - 287289.45667000004</td>\n",
       "      <td>48.0</td>\n",
       "    </tr>\n",
       "    <tr>\n",
       "      <th>18</th>\n",
       "      <td>287289.45667000004 - 303249.863335</td>\n",
       "      <td>10.0</td>\n",
       "    </tr>\n",
       "    <tr>\n",
       "      <th>19</th>\n",
       "      <td>303249.863335 - 319210.27</td>\n",
       "      <td>11.0</td>\n",
       "    </tr>\n",
       "  </tbody>\n",
       "</table>\n",
       "</div>"
      ],
      "text/plain": [
       "                                   interval   count\n",
       "0               2.1367 - 15962.543365000001  3863.0\n",
       "1   15962.543365000001 - 31922.950030000004  2175.0\n",
       "2    31922.950030000004 - 47883.35669500001  2676.0\n",
       "3     47883.35669500001 - 63843.76336000001  2828.0\n",
       "4     63843.76336000001 - 79804.17002500001  2889.0\n",
       "5     79804.17002500001 - 95764.57669000002  2792.0\n",
       "6    95764.57669000002 - 111724.98335500002  2485.0\n",
       "7   111724.98335500002 - 127685.39002000002  2066.0\n",
       "8   127685.39002000002 - 143645.79668500004  1452.0\n",
       "9   143645.79668500004 - 159606.20335000003   882.0\n",
       "10       159606.20335000003 - 175566.610015   408.0\n",
       "11       175566.610015 - 191527.01668000003   216.0\n",
       "12  191527.01668000003 - 207487.42334500005   206.0\n",
       "13  207487.42334500005 - 223447.83001000003   167.0\n",
       "14  223447.83001000003 - 239408.23667500002   129.0\n",
       "15  239408.23667500002 - 255368.64334000004   111.0\n",
       "16       255368.64334000004 - 271329.050005    66.0\n",
       "17       271329.050005 - 287289.45667000004    48.0\n",
       "18       287289.45667000004 - 303249.863335    10.0\n",
       "19                303249.863335 - 319210.27    11.0"
      ]
     },
     "execution_count": 38,
     "metadata": {},
     "output_type": "execute_result"
    }
   ],
   "source": [
    "# draw a data frame frequency, count\n",
    "\n",
    "interval=[]\n",
    "for i in range(len(bins)-1):\n",
    "    d=bins[i]\n",
    "    b=bins[i+1]\n",
    "    interval.append(f'{d} - {b}')\n",
    "\n",
    "d=pd.DataFrame(zip(interval,count),columns=['interval','count'])\n",
    "d\n"
   ]
  },
  {
   "cell_type": "code",
   "execution_count": null,
   "id": "db01a362",
   "metadata": {},
   "outputs": [],
   "source": []
  }
 ],
 "metadata": {
  "kernelspec": {
   "display_name": "Python 3 (ipykernel)",
   "language": "python",
   "name": "python3"
  },
  "language_info": {
   "codemirror_mode": {
    "name": "ipython",
    "version": 3
   },
   "file_extension": ".py",
   "mimetype": "text/x-python",
   "name": "python",
   "nbconvert_exporter": "python",
   "pygments_lexer": "ipython3",
   "version": "3.11.7"
  }
 },
 "nbformat": 4,
 "nbformat_minor": 5
}
